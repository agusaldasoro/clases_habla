{
 "cells": [
  {
   "cell_type": "markdown",
   "metadata": {},
   "source": [
    "# Clasificador de genero del hablante"
   ]
  },
  {
   "cell_type": "markdown",
   "metadata": {},
   "source": [
    "Definimos una función para extraer atributos (Pitch, RMS, Jitter, Shimmer, NHR) de un audio:"
   ]
  },
  {
   "cell_type": "code",
   "execution_count": null,
   "metadata": {
    "collapsed": true
   },
   "outputs": [],
   "source": [
    "import re, string, sys\n",
    "\n",
    "# Nombres de los atributos.\n",
    "nombres_atributos = [\n",
    "  'longitud',\n",
    "  'cant_vocales',\n",
    "  'cant_consonantes',\n",
    "  'prop_vocales',\n",
    "  'prop_consonantes',\n",
    "  'cant_consonantes_vecinas',\n",
    "  'cant_vocales_vecinas',\n",
    "  'cant_consonantes_distintas',\n",
    "  'cant_vocales_distintas',\n",
    "  'cant_consonantes_iniciales',\n",
    "  'cant_vocales_iniciales',\n",
    "  'cant_consonantes_finales',\n",
    "  'cant_vocales_finales',\n",
    "]\n",
    "for i in string.uppercase:\n",
    "  nombres_atributos.append('cant_letra_'+i)\n",
    "\n",
    "# Función para extraer atributos.\n",
    "def extraer(sigla):\n",
    "  atr = []\n",
    "  \n",
    "  # longitud\n",
    "  longitud = len(sigla)\n",
    "  atr.append(longitud)\n",
    "  \n",
    "  # cant_vocales\n",
    "  cant_vocales = len([x for x in sigla if x in 'AEIOU'])\n",
    "  atr.append(cant_vocales)\n",
    "  \n",
    "  # cant_consonantes\n",
    "  cant_consonantes = longitud - cant_vocales\n",
    "  atr.append(cant_consonantes)\n",
    "  \n",
    "  # prop_consonantes\n",
    "  atr.append(float(cant_consonantes) / float(longitud))\n",
    "\n",
    "  # prop_vocales\n",
    "  atr.append(float(cant_vocales) / float(longitud))\n",
    "\n",
    "  # patron\n",
    "  patron = ''\n",
    "  for x in sigla:\n",
    "    patron += 'v' if x in 'AEIOU' else 'c'\n",
    "\n",
    "  # cant_consonantes_vecinas\n",
    "  n = longitud\n",
    "  found = False\n",
    "  while not found:\n",
    "    # buscamos ccc..c en el patron\n",
    "    if 'c'*n in patron: found = True\n",
    "    else: n -= 1\n",
    "  atr.append(n)\n",
    "  \n",
    "  # cant_vocales_vecinas\n",
    "  n = longitud\n",
    "  found = False\n",
    "  while not found:\n",
    "    # buscamos vvv..v en el patron\n",
    "    if 'v'*n in patron: found = True\n",
    "    else: n -= 1\n",
    "  atr.append(n)\n",
    "\n",
    "  # cant_consonantes_distintas\n",
    "  atr.append(len(set([x for x in sigla if x not in 'AEIOU'])))\n",
    "  \n",
    "  # cant_vocales_distintas\n",
    "  atr.append(len(set([x for x in sigla if x in 'AEIOU'])))\n",
    "  \n",
    "  # cant_consonantes_iniciales\n",
    "  m = re.search('^c+',patron)\n",
    "  atr.append(len(m.group(0)) if m else 0)\n",
    "\n",
    "  # cant_vocales_iniciales\n",
    "  m = re.search('^v+',patron)\n",
    "  atr.append(len(m.group(0)) if m else 0)\n",
    "\n",
    "  # cant_consonantes_finales\n",
    "  m = re.search('c+$',patron)\n",
    "  atr.append(len(m.group(0)) if m else 0)\n",
    "\n",
    "  # cant_vocales_finales\n",
    "  m = re.search('v+$',patron)\n",
    "  atr.append(len(m.group(0)) if m else 0)\n",
    "  \n",
    "  # cant_letra_?\n",
    "  for i in string.uppercase:\n",
    "    atr.append(len([x for x in sigla if x==i]))\n",
    "\n",
    "  return atr"
   ]
  },
  {
   "cell_type": "markdown",
   "metadata": {},
   "source": [
    "Ejemplo de uso de la función extraer, con una sigla inventada:"
   ]
  },
  {
   "cell_type": "code",
   "execution_count": null,
   "metadata": {
    "collapsed": true
   },
   "outputs": [],
   "source": [
    "import pprint\n",
    "pprint.pprint(zip(nombres_atributos, extraer(\"VIVPEP\")))"
   ]
  },
  {
   "cell_type": "markdown",
   "metadata": {},
   "source": [
    "Armamos el dataset: leemos la tabla con siglas y clases del archivo CSV, y extraemos atributos de cada sigla."
   ]
  },
  {
   "cell_type": "code",
   "execution_count": null,
   "metadata": {
    "collapsed": true
   },
   "outputs": [],
   "source": [
    "import csv\n",
    "\n",
    "x = []    # atributos de las instancias (lista de listas)\n",
    "y = []    # clases de las instancias\n",
    "\n",
    "with open('siglas.csv', 'rb') as csvfile:\n",
    "  myreader = csv.reader(csvfile, delimiter=',')\n",
    "  for row in myreader:\n",
    "    x.append(extraer(row[0]))\n",
    "    y.append(row[1])"
   ]
  },
  {
   "cell_type": "markdown",
   "metadata": {},
   "source": [
    "Entrenamos y evaluamos modelos con 5-fold cross validation:"
   ]
  },
  {
   "cell_type": "code",
   "execution_count": null,
   "metadata": {
    "collapsed": true
   },
   "outputs": [],
   "source": [
    "import numpy as np\n",
    "from sklearn.model_selection import cross_val_score\n",
    "from sklearn import svm\n",
    "\n",
    "clf = svm.SVC(kernel='linear', C=0.25)\n",
    "scores = cross_val_score(clf, x, y, cv=5)\n",
    "print \"Mean accuracy: %.2f%%\" % (np.mean(scores)*100.0)"
   ]
  },
  {
   "cell_type": "markdown",
   "metadata": {},
   "source": [
    "Finalmente, entrenamos un modelo con todos los datos, y lo usamos para predecir:"
   ]
  },
  {
   "cell_type": "code",
   "execution_count": null,
   "metadata": {
    "collapsed": true
   },
   "outputs": [],
   "source": [
    "clf = svm.SVC(kernel='linear', C=0.25)\n",
    "clf.fit(x, y)\n",
    "print clf.predict([extraer(\"VIVPEP\"), extraer(\"FPFDN\")])"
   ]
  }
 ],
 "metadata": {
  "kernelspec": {
   "display_name": "Python 3",
   "language": "python",
   "name": "python3"
  },
  "language_info": {
   "codemirror_mode": {
    "name": "ipython",
    "version": 3
   },
   "file_extension": ".py",
   "mimetype": "text/x-python",
   "name": "python",
   "nbconvert_exporter": "python",
   "pygments_lexer": "ipython3",
   "version": "3.5.2"
  }
 },
 "nbformat": 4,
 "nbformat_minor": 2
}
