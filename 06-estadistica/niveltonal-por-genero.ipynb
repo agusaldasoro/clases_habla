{
 "cells": [
  {
   "cell_type": "markdown",
   "metadata": {},
   "source": [
    "# Preparación de datos"
   ]
  },
  {
   "cell_type": "code",
   "execution_count": null,
   "metadata": {
    "collapsed": true
   },
   "outputs": [],
   "source": [
    "from os import listdir\n",
    "from os.path import isfile, join\n",
    "MYPATH = \"./datos\"\n",
    "wavs = sorted([f for f in listdir(MYPATH) if f[-3:]=='wav'])\n",
    "print len(wavs)\n",
    "print wavs[:5]"
   ]
  },
  {
   "cell_type": "markdown",
   "metadata": {},
   "source": [
    "# Observaciones/mediciones\n",
    "\n",
    "Definimos un wrapper para el script de Praat que extrae varios atributos acústicos.\n",
    "\n",
    "**Obs.1**: Revisar el path a Praat.\n",
    "\n",
    "**Obs.2**: En algunas veresiones de Praat debe incluirse un argumento '--run' en el llamado."
   ]
  },
  {
   "cell_type": "code",
   "execution_count": null,
   "metadata": {
    "collapsed": true
   },
   "outputs": [],
   "source": [
    "import os\n",
    "from subprocess import Popen, PIPE\n",
    "\n",
    "PRAAT= '/usr/bin/praat'\n",
    "\n",
    "def run_praat(wav, start, end, min_pitch, max_pitch):\n",
    "    args= [PRAAT, 'acoustics.praat', wav, str(start),\n",
    "           str(end), str(min_pitch), str(max_pitch)]\n",
    "    p= Popen(args, stdout=PIPE)\n",
    "    out= p.stdout.read()\n",
    "    res= {}\n",
    "    for line in out.split('\\n'):\n",
    "        line= line.strip()\n",
    "        if len(line) == 0: continue\n",
    "        k, v= line.split(':')\n",
    "        if v == '--undefined--': v= -1\n",
    "        else: v= float(v)\n",
    "        res[k.lower()]= v\n",
    "    return res"
   ]
  },
  {
   "cell_type": "markdown",
   "metadata": {},
   "source": [
    "Algunas funciones auxiliares..."
   ]
  },
  {
   "cell_type": "code",
   "execution_count": null,
   "metadata": {
    "collapsed": true
   },
   "outputs": [],
   "source": [
    "def fullpath(filename): return MYPATH + '/' + filename"
   ]
  },
  {
   "cell_type": "code",
   "execution_count": null,
   "metadata": {
    "collapsed": true
   },
   "outputs": [],
   "source": [
    "# Given a wav filename (eg, \"001m29r.wav\"), return speaker's id, \n",
    "# gender (m/f), age and speech genre (s/r, for spontaneous/read).\n",
    "def speaker(filename): return int(filename[0:3])\n",
    "def gender(filename): return filename[3]\n",
    "def age(filename): return int(filename[4:6])\n",
    "def genre(filename): return filename[6]\n",
    "\n",
    "# Testing...\n",
    "for w in [\"001m09r.wav\", \"999f99s.wav\"]:\n",
    "    for f in [speaker,gender,age,genre]: print f(w),\n",
    "    print"
   ]
  },
  {
   "cell_type": "markdown",
   "metadata": {},
   "source": [
    "Ahora ya estamos listos para medir el valor de pitch de los hombres por un lado (con rango 50-300Hz) y de las mujeres por el otro (75-500Hz).\n",
    "\n",
    "**Obs.:** Usamos sólo las versiones espontáneas, para no tener duplicados a los hablantes. El t-test necesita independencia entre las muestras."
   ]
  },
  {
   "cell_type": "code",
   "execution_count": null,
   "metadata": {
    "collapsed": true
   },
   "outputs": [],
   "source": [
    "male   = [w for w in wavs if gender(w)=='m' and genre(w)=='s']\n",
    "female = [w for w in wavs if gender(w)=='f' and genre(w)=='s']\n",
    "\n",
    "pitch_m = [run_praat(fullpath(w), 0, 0, 50, 300)['f0_mean'] for w in male]\n",
    "pitch_f = [run_praat(fullpath(w), 0, 0, 75, 500)['f0_mean'] for w in female]"
   ]
  },
  {
   "cell_type": "markdown",
   "metadata": {},
   "source": [
    "# Análisis exploratorio de los datos\n",
    "\n",
    "Calculamos media y desvío estándar de cada grupo:"
   ]
  },
  {
   "cell_type": "code",
   "execution_count": null,
   "metadata": {
    "collapsed": true
   },
   "outputs": [],
   "source": [
    "import numpy as np\n",
    "print \"Hombres:\", np.mean(pitch_m), np.std(pitch_m)\n",
    "print \"Mujeres:\", np.mean(pitch_f), np.std(pitch_f)"
   ]
  },
  {
   "cell_type": "markdown",
   "metadata": {},
   "source": [
    "Generamos **histogramas** para analizar las distribuciones de las observaciones:"
   ]
  },
  {
   "cell_type": "code",
   "execution_count": null,
   "metadata": {
    "collapsed": true,
    "scrolled": false
   },
   "outputs": [],
   "source": [
    "import matplotlib.pyplot as plt\n",
    "plt.hist(pitch_m, facecolor='blue', alpha=0.5)\n",
    "plt.hist(pitch_f, facecolor='green', alpha=0.5)\n",
    "plt.show()"
   ]
  },
  {
   "cell_type": "markdown",
   "metadata": {},
   "source": [
    "Ahora generamos **box plots**:"
   ]
  },
  {
   "cell_type": "code",
   "execution_count": null,
   "metadata": {
    "collapsed": true,
    "scrolled": false
   },
   "outputs": [],
   "source": [
    "import matplotlib.pyplot as plt\n",
    "plt.boxplot([pitch_m,pitch_f])\n",
    "plt.show()"
   ]
  },
  {
   "cell_type": "markdown",
   "metadata": {},
   "source": [
    "# Análisis estadístico\n",
    "\n",
    "Nuestra hipótesis nula ($H_0$) es que los dos grupos (hombres y mujeres) son iguales en términos de nivel tonal. La hipótesis alternativa ($H_1$) es que los hombres tienen voz más grave que las mujeres, cosa que el análisis de arriba parece sugerir.\n",
    "\n",
    "Vamos a correr entonces un **$t$-test de Student**, con una sola cola (one-tailed). Si $H_1$ dijera \"distinto\" en lugar de \"más grave que\", entonces correríamos un test con dos colas (two-tailed).\n",
    "\n",
    "El $p$-valor arrojado por la función ttest_ind es two-tailed. Para pasarlo a one-tailed sólo necesitamos dividirlo por 2."
   ]
  },
  {
   "cell_type": "code",
   "execution_count": null,
   "metadata": {
    "collapsed": true
   },
   "outputs": [],
   "source": [
    "from scipy import stats\n",
    "stats.ttest_ind(pitch_m, pitch_f).pvalue / 2"
   ]
  },
  {
   "cell_type": "markdown",
   "metadata": {},
   "source": [
    "# Conclusiones\n",
    "El $p$-valor resultante es bajísimo, lo cual constituye sólida evidencia empírica de que deberíamos rechazar $H_0$ y quedarnos con $H_1$ (los hombres en general tienen la voz más grave que las mujeres)."
   ]
  }
 ],
 "metadata": {
  "kernelspec": {
   "display_name": "Python 2",
   "language": "python",
   "name": "python2"
  },
  "language_info": {
   "codemirror_mode": {
    "name": "ipython",
    "version": 2
   },
   "file_extension": ".py",
   "mimetype": "text/x-python",
   "name": "python",
   "nbconvert_exporter": "python",
   "pygments_lexer": "ipython2",
   "version": "2.7.12"
  }
 },
 "nbformat": 4,
 "nbformat_minor": 2
}
