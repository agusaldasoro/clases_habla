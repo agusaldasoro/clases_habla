{
 "cells": [
  {
   "cell_type": "markdown",
   "metadata": {},
   "source": [
    "# Preparación de datos\n",
    "\n",
    "Armamos nuestras series temporales. Notar que las mediciones de cantidad de fumadores y casos de cáncer están desfasadas 20 años.\n"
   ]
  },
  {
   "cell_type": "code",
   "execution_count": null,
   "metadata": {
    "collapsed": true
   },
   "outputs": [],
   "source": [
    "import numpy as np\n",
    "anios = np.arange(1900, 1975, 5)\n",
    "cigarrillos = np.array([800,1000,1200,1500,2300,2500,2800,3200,4000,4300,4200])\n",
    "cancer = np.array([8,8,13,18,40,60,125,160,175,177,177])"
   ]
  },
  {
   "cell_type": "markdown",
   "metadata": {},
   "source": [
    "# Visualización\n",
    "\n",
    "Primero graficamos cada serie en el tiempo."
   ]
  },
  {
   "cell_type": "code",
   "execution_count": null,
   "metadata": {},
   "outputs": [],
   "source": [
    "import matplotlib.pyplot as plt\n",
    "plt.plot(anios[:11], cigarrillos)\n",
    "plt.plot(anios[-11:], cancer*10)\n",
    "plt.show()"
   ]
  },
  {
   "cell_type": "markdown",
   "metadata": {},
   "source": [
    "Ahora graficamos una serie contra la otra, en un **scatter plot**, y le ajustamos una recta."
   ]
  },
  {
   "cell_type": "code",
   "execution_count": null,
   "metadata": {},
   "outputs": [],
   "source": [
    "plt.plot(cigarrillos, cancer, linestyle='', marker='.')\n",
    "ajuste = np.poly1d(np.polyfit(cigarrillos, cancer, 1))\n",
    "plt.plot(cigarrillos, ajuste(cigarrillos))\n",
    "plt.show()"
   ]
  },
  {
   "cell_type": "markdown",
   "metadata": {},
   "source": [
    "# Estadística\n",
    "\n",
    "Ahora corremos el test de correlación de Pearson, que devuelve el coeficiente de correlación."
   ]
  },
  {
   "cell_type": "code",
   "execution_count": null,
   "metadata": {},
   "outputs": [],
   "source": [
    "from scipy import stats\n",
    "print stats.pearsonr(cigarrillos, cancer)[0]"
   ]
  },
  {
   "cell_type": "markdown",
   "metadata": {},
   "source": [
    "La correlación es altísima, lo cual constituye evidencia empírica de una fuerte **asociación** entre las dos variables, en el período de tiempo estudiado."
   ]
  }
 ],
 "metadata": {
  "kernelspec": {
   "display_name": "Python 2",
   "language": "python",
   "name": "python2"
  },
  "language_info": {
   "codemirror_mode": {
    "name": "ipython",
    "version": 2
   },
   "file_extension": ".py",
   "mimetype": "text/x-python",
   "name": "python",
   "nbconvert_exporter": "python",
   "pygments_lexer": "ipython2",
   "version": "2.7.12"
  }
 },
 "nbformat": 4,
 "nbformat_minor": 2
}
