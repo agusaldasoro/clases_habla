{
 "cells": [
  {
   "cell_type": "markdown",
   "metadata": {},
   "source": [
    "# Preparación de datos"
   ]
  },
  {
   "cell_type": "code",
   "execution_count": null,
   "metadata": {
    "collapsed": true
   },
   "outputs": [],
   "source": [
    "hombres = [175,173,187,165,180,180,176,168,183,175,170,184,174,175,175,181,185,162,190,178] \n",
    "mujeres = [162,154,155,167,165,167,166,165,170,164,170,165,163,160,153,160,160,164,165,150]"
   ]
  },
  {
   "cell_type": "markdown",
   "metadata": {},
   "source": [
    "# Análisis de datos\n",
    "Calculamos la **media muestral** de cada grupo:"
   ]
  },
  {
   "cell_type": "code",
   "execution_count": null,
   "metadata": {
    "collapsed": true
   },
   "outputs": [],
   "source": [
    "import numpy as np\n",
    "print np.mean(hombres)\n",
    "print np.mean(mujeres)"
   ]
  },
  {
   "cell_type": "markdown",
   "metadata": {},
   "source": [
    "Ahora calculamos el **desvío estándar** de cada grupo:"
   ]
  },
  {
   "cell_type": "code",
   "execution_count": null,
   "metadata": {
    "collapsed": true
   },
   "outputs": [],
   "source": [
    "import numpy as np\n",
    "print np.std(hombres)\n",
    "print np.std(mujeres)"
   ]
  },
  {
   "cell_type": "markdown",
   "metadata": {},
   "source": [
    "Generamos **histogramas** para analizar las distribuciones de las observaciones:"
   ]
  },
  {
   "cell_type": "code",
   "execution_count": null,
   "metadata": {
    "collapsed": true,
    "scrolled": true
   },
   "outputs": [],
   "source": [
    "import matplotlib.pyplot as plt\n",
    "plt.hist(hombres, facecolor='blue', alpha=0.5)\n",
    "plt.hist(mujeres, facecolor='green', alpha=0.5)\n",
    "plt.show()"
   ]
  },
  {
   "cell_type": "markdown",
   "metadata": {},
   "source": [
    "Ahora generamos **box plots**:"
   ]
  },
  {
   "cell_type": "code",
   "execution_count": null,
   "metadata": {
    "collapsed": true,
    "scrolled": true
   },
   "outputs": [],
   "source": [
    "import matplotlib.pyplot as plt\n",
    "plt.boxplot([mujeres,hombres])\n",
    "plt.show()"
   ]
  },
  {
   "cell_type": "markdown",
   "metadata": {},
   "source": [
    "# Estadística\n",
    "\n",
    "Nuestra hipótesis nula ($H_0$) es que los dos grupos (hombres y mujeres) son iguales en términos de altura. La hipótesis alternativa ($H_1$) es que los hombres son más altos que las mujeres, cosa que el análisis de arriba parece sugerir.\n",
    "\n",
    "Vamos a correr entonces un **$t$-test de Student**, con una sola cola (one-tailed). Si $H_1$ dijera \"distinto\" en lugar de \"mayor que\", entonces correríamos un test con dos colas (two-tailed).\n",
    "\n",
    "El $p$-valor arrojado por la función ttest_ind es two-tailed. Para pasarlo a one-tailed sólo necesitamos dividirlo por 2."
   ]
  },
  {
   "cell_type": "code",
   "execution_count": null,
   "metadata": {
    "collapsed": true
   },
   "outputs": [],
   "source": [
    "from scipy import stats\n",
    "stats.ttest_ind(hombres, mujeres).pvalue / 2"
   ]
  },
  {
   "cell_type": "markdown",
   "metadata": {},
   "source": [
    "El $p$-valor resultante es bajísimo, lo cual constituye sólida evidencia empírica de que deberíamos rechazar $H_0$ y quedarnos con $H_1$."
   ]
  }
 ],
 "metadata": {
  "kernelspec": {
   "display_name": "Python 2",
   "language": "python",
   "name": "python2"
  },
  "language_info": {
   "codemirror_mode": {
    "name": "ipython",
    "version": 2
   },
   "file_extension": ".py",
   "mimetype": "text/x-python",
   "name": "python",
   "nbconvert_exporter": "python",
   "pygments_lexer": "ipython2",
   "version": "2.7.12"
  }
 },
 "nbformat": 4,
 "nbformat_minor": 2
}
